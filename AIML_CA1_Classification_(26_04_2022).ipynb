{
  "nbformat": 4,
  "nbformat_minor": 0,
  "metadata": {
    "colab": {
      "name": "AIML CA1 Classification (26/04/2022)",
      "provenance": [],
      "toc_visible": true
    },
    "kernelspec": {
      "name": "python3",
      "display_name": "Python 3"
    },
    "language_info": {
      "name": "python"
    }
  },
  "cells": [
    {
      "cell_type": "markdown",
      "source": [
        "# **Project: Classificaiton factory Machine Failure**"
      ],
      "metadata": {
        "id": "swbh-AmDOV5r"
      }
    },
    {
      "cell_type": "markdown",
      "source": [
        "Random notes: Try to add images of the gears of the system \n",
        "\n",
        "Heatmap of features to target variable using some analysis value\n",
        "\n",
        "drop usless features from EDA\n",
        "\n",
        "Encode categorical data like Quality\n",
        "\n",
        "Reasearch Stupid baseline and how to implement\n",
        "\n",
        "Select a few algorithms to test on, based on certain metric then line graph train test scores \n",
        "\n",
        "Add Model improvement, --> need to reasearch more \n",
        "\n",
        "Hyperparameter Tuning and like lasso regualization\n",
        "Cross validating \n",
        "\n",
        "### Variables that i can play around with\n",
        "\n",
        "*   Various Matric to evaluate\n",
        "*   train test split test sizes \n",
        "*   Method of handing Missing data --> Drop,impute etc\n",
        "*   Encoding and Feature enginering ( this one idk actually )\n",
        "*   **Differnt Algorithims to fit model** \n",
        "*   beta thingy ( need research more ) \n",
        "*   probability threshold for various algorithm: i.e ROC curve\n",
        "\n",
        "Research this :D\n",
        "sklearn.preprocessing.PolynomialFeatures¶\n"
      ],
      "metadata": {
        "id": "bd3IhBHjdKI4"
      }
    },
    {
      "cell_type": "markdown",
      "source": [
        "# **Project Initilzation**"
      ],
      "metadata": {
        "id": "kWHaqhkgQzOQ"
      }
    },
    {
      "cell_type": "markdown",
      "source": [
        "## Importing Libraries"
      ],
      "metadata": {
        "id": "SeAyi_kpOM4b"
      }
    },
    {
      "cell_type": "code",
      "execution_count": 23,
      "metadata": {
        "id": "DYOwhORCOGll"
      },
      "outputs": [],
      "source": [
        "import pandas as pd\n",
        "import numpy as np\n",
        "import matplotlib.pyplot as plt\n",
        "import seaborn as sns\n",
        "import plotly.express as px\n",
        "from sklearn.model_selection import train_test_split, cross_validate, StratifiedKFold, learning_curve ,cross_val_score ,GridSearchCV\n",
        "\n",
        "from sklearn.metrics import fbeta_score, make_scorer,classification_report,confusion_matrix, roc_auc_score"
      ]
    },
    {
      "cell_type": "markdown",
      "source": [
        "## Loading Dataset"
      ],
      "metadata": {
        "id": "ZzaFCh5SOjIF"
      }
    },
    {
      "cell_type": "code",
      "source": [
        "df = pd.read_csv('/content/drive/MyDrive/Datasets/factory_data (classification).csv')\n",
        "df.head()"
      ],
      "metadata": {
        "colab": {
          "base_uri": "https://localhost:8080/",
          "height": 206
        },
        "id": "V_OAQRUZPREN",
        "outputId": "2aa896d3-a8ff-4c53-e52d-8120e77d95dd"
      },
      "execution_count": 2,
      "outputs": [
        {
          "output_type": "execute_result",
          "data": {
            "text/plain": [
              "   Unique ID Product ID Quality  Ambient T (C)  Process T (C)  \\\n",
              "0          1     K12965       M          24.95          35.45   \n",
              "1          2     Z62710       L          25.05          35.55   \n",
              "2          3     T20224       L          24.95          35.35   \n",
              "3          4     Z33024       L          25.05          35.45   \n",
              "4          5     Z52839       L          25.05          35.55   \n",
              "\n",
              "   Rotation Speed (rpm)  Torque (Nm)  Tool Wear (min)  Machine Status  \n",
              "0                1551.0         42.8                0               0  \n",
              "1                1408.0         46.3                3               0  \n",
              "2                1498.0         49.4                5               0  \n",
              "3                1433.0         39.5                7               0  \n",
              "4                1408.0         40.0                9               0  "
            ],
            "text/html": [
              "\n",
              "  <div id=\"df-31ab1788-36cd-4be2-a371-d8961de686c1\">\n",
              "    <div class=\"colab-df-container\">\n",
              "      <div>\n",
              "<style scoped>\n",
              "    .dataframe tbody tr th:only-of-type {\n",
              "        vertical-align: middle;\n",
              "    }\n",
              "\n",
              "    .dataframe tbody tr th {\n",
              "        vertical-align: top;\n",
              "    }\n",
              "\n",
              "    .dataframe thead th {\n",
              "        text-align: right;\n",
              "    }\n",
              "</style>\n",
              "<table border=\"1\" class=\"dataframe\">\n",
              "  <thead>\n",
              "    <tr style=\"text-align: right;\">\n",
              "      <th></th>\n",
              "      <th>Unique ID</th>\n",
              "      <th>Product ID</th>\n",
              "      <th>Quality</th>\n",
              "      <th>Ambient T (C)</th>\n",
              "      <th>Process T (C)</th>\n",
              "      <th>Rotation Speed (rpm)</th>\n",
              "      <th>Torque (Nm)</th>\n",
              "      <th>Tool Wear (min)</th>\n",
              "      <th>Machine Status</th>\n",
              "    </tr>\n",
              "  </thead>\n",
              "  <tbody>\n",
              "    <tr>\n",
              "      <th>0</th>\n",
              "      <td>1</td>\n",
              "      <td>K12965</td>\n",
              "      <td>M</td>\n",
              "      <td>24.95</td>\n",
              "      <td>35.45</td>\n",
              "      <td>1551.0</td>\n",
              "      <td>42.8</td>\n",
              "      <td>0</td>\n",
              "      <td>0</td>\n",
              "    </tr>\n",
              "    <tr>\n",
              "      <th>1</th>\n",
              "      <td>2</td>\n",
              "      <td>Z62710</td>\n",
              "      <td>L</td>\n",
              "      <td>25.05</td>\n",
              "      <td>35.55</td>\n",
              "      <td>1408.0</td>\n",
              "      <td>46.3</td>\n",
              "      <td>3</td>\n",
              "      <td>0</td>\n",
              "    </tr>\n",
              "    <tr>\n",
              "      <th>2</th>\n",
              "      <td>3</td>\n",
              "      <td>T20224</td>\n",
              "      <td>L</td>\n",
              "      <td>24.95</td>\n",
              "      <td>35.35</td>\n",
              "      <td>1498.0</td>\n",
              "      <td>49.4</td>\n",
              "      <td>5</td>\n",
              "      <td>0</td>\n",
              "    </tr>\n",
              "    <tr>\n",
              "      <th>3</th>\n",
              "      <td>4</td>\n",
              "      <td>Z33024</td>\n",
              "      <td>L</td>\n",
              "      <td>25.05</td>\n",
              "      <td>35.45</td>\n",
              "      <td>1433.0</td>\n",
              "      <td>39.5</td>\n",
              "      <td>7</td>\n",
              "      <td>0</td>\n",
              "    </tr>\n",
              "    <tr>\n",
              "      <th>4</th>\n",
              "      <td>5</td>\n",
              "      <td>Z52839</td>\n",
              "      <td>L</td>\n",
              "      <td>25.05</td>\n",
              "      <td>35.55</td>\n",
              "      <td>1408.0</td>\n",
              "      <td>40.0</td>\n",
              "      <td>9</td>\n",
              "      <td>0</td>\n",
              "    </tr>\n",
              "  </tbody>\n",
              "</table>\n",
              "</div>\n",
              "      <button class=\"colab-df-convert\" onclick=\"convertToInteractive('df-31ab1788-36cd-4be2-a371-d8961de686c1')\"\n",
              "              title=\"Convert this dataframe to an interactive table.\"\n",
              "              style=\"display:none;\">\n",
              "        \n",
              "  <svg xmlns=\"http://www.w3.org/2000/svg\" height=\"24px\"viewBox=\"0 0 24 24\"\n",
              "       width=\"24px\">\n",
              "    <path d=\"M0 0h24v24H0V0z\" fill=\"none\"/>\n",
              "    <path d=\"M18.56 5.44l.94 2.06.94-2.06 2.06-.94-2.06-.94-.94-2.06-.94 2.06-2.06.94zm-11 1L8.5 8.5l.94-2.06 2.06-.94-2.06-.94L8.5 2.5l-.94 2.06-2.06.94zm10 10l.94 2.06.94-2.06 2.06-.94-2.06-.94-.94-2.06-.94 2.06-2.06.94z\"/><path d=\"M17.41 7.96l-1.37-1.37c-.4-.4-.92-.59-1.43-.59-.52 0-1.04.2-1.43.59L10.3 9.45l-7.72 7.72c-.78.78-.78 2.05 0 2.83L4 21.41c.39.39.9.59 1.41.59.51 0 1.02-.2 1.41-.59l7.78-7.78 2.81-2.81c.8-.78.8-2.07 0-2.86zM5.41 20L4 18.59l7.72-7.72 1.47 1.35L5.41 20z\"/>\n",
              "  </svg>\n",
              "      </button>\n",
              "      \n",
              "  <style>\n",
              "    .colab-df-container {\n",
              "      display:flex;\n",
              "      flex-wrap:wrap;\n",
              "      gap: 12px;\n",
              "    }\n",
              "\n",
              "    .colab-df-convert {\n",
              "      background-color: #E8F0FE;\n",
              "      border: none;\n",
              "      border-radius: 50%;\n",
              "      cursor: pointer;\n",
              "      display: none;\n",
              "      fill: #1967D2;\n",
              "      height: 32px;\n",
              "      padding: 0 0 0 0;\n",
              "      width: 32px;\n",
              "    }\n",
              "\n",
              "    .colab-df-convert:hover {\n",
              "      background-color: #E2EBFA;\n",
              "      box-shadow: 0px 1px 2px rgba(60, 64, 67, 0.3), 0px 1px 3px 1px rgba(60, 64, 67, 0.15);\n",
              "      fill: #174EA6;\n",
              "    }\n",
              "\n",
              "    [theme=dark] .colab-df-convert {\n",
              "      background-color: #3B4455;\n",
              "      fill: #D2E3FC;\n",
              "    }\n",
              "\n",
              "    [theme=dark] .colab-df-convert:hover {\n",
              "      background-color: #434B5C;\n",
              "      box-shadow: 0px 1px 3px 1px rgba(0, 0, 0, 0.15);\n",
              "      filter: drop-shadow(0px 1px 2px rgba(0, 0, 0, 0.3));\n",
              "      fill: #FFFFFF;\n",
              "    }\n",
              "  </style>\n",
              "\n",
              "      <script>\n",
              "        const buttonEl =\n",
              "          document.querySelector('#df-31ab1788-36cd-4be2-a371-d8961de686c1 button.colab-df-convert');\n",
              "        buttonEl.style.display =\n",
              "          google.colab.kernel.accessAllowed ? 'block' : 'none';\n",
              "\n",
              "        async function convertToInteractive(key) {\n",
              "          const element = document.querySelector('#df-31ab1788-36cd-4be2-a371-d8961de686c1');\n",
              "          const dataTable =\n",
              "            await google.colab.kernel.invokeFunction('convertToInteractive',\n",
              "                                                     [key], {});\n",
              "          if (!dataTable) return;\n",
              "\n",
              "          const docLinkHtml = 'Like what you see? Visit the ' +\n",
              "            '<a target=\"_blank\" href=https://colab.research.google.com/notebooks/data_table.ipynb>data table notebook</a>'\n",
              "            + ' to learn more about interactive tables.';\n",
              "          element.innerHTML = '';\n",
              "          dataTable['output_type'] = 'display_data';\n",
              "          await google.colab.output.renderOutput(dataTable, element);\n",
              "          const docLink = document.createElement('div');\n",
              "          docLink.innerHTML = docLinkHtml;\n",
              "          element.appendChild(docLink);\n",
              "        }\n",
              "      </script>\n",
              "    </div>\n",
              "  </div>\n",
              "  "
            ]
          },
          "metadata": {},
          "execution_count": 2
        }
      ]
    },
    {
      "cell_type": "markdown",
      "source": [
        "# Understanding features"
      ],
      "metadata": {
        "id": "_fjFl9FJPmDk"
      }
    },
    {
      "cell_type": "markdown",
      "source": [
        "# Exploratory Data Analysis"
      ],
      "metadata": {
        "id": "W6tJ7gP7Peq1"
      }
    },
    {
      "cell_type": "code",
      "source": [
        "df_eda = df.copy()"
      ],
      "metadata": {
        "id": "1YWMuqsmWu3b"
      },
      "execution_count": null,
      "outputs": []
    },
    {
      "cell_type": "code",
      "source": [
        "df_eda.shape"
      ],
      "metadata": {
        "colab": {
          "base_uri": "https://localhost:8080/"
        },
        "id": "YKsPIsMTS781",
        "outputId": "9350e720-4da2-46fd-c725-c4fa2499440e"
      },
      "execution_count": null,
      "outputs": [
        {
          "output_type": "execute_result",
          "data": {
            "text/plain": [
              "(20000, 9)"
            ]
          },
          "metadata": {},
          "execution_count": 4
        }
      ]
    },
    {
      "cell_type": "markdown",
      "source": [
        "There are **20k** rows and **9** columns in the Factory datset"
      ],
      "metadata": {
        "id": "vftc2KLSS_m0"
      }
    },
    {
      "cell_type": "code",
      "source": [
        "df_eda.info()"
      ],
      "metadata": {
        "colab": {
          "base_uri": "https://localhost:8080/"
        },
        "id": "BabKQkqSPrPU",
        "outputId": "b904ac54-e3b3-44d8-ae9a-4c5b21b9daf4"
      },
      "execution_count": null,
      "outputs": [
        {
          "output_type": "stream",
          "name": "stdout",
          "text": [
            "<class 'pandas.core.frame.DataFrame'>\n",
            "RangeIndex: 20000 entries, 0 to 19999\n",
            "Data columns (total 9 columns):\n",
            " #   Column                Non-Null Count  Dtype  \n",
            "---  ------                --------------  -----  \n",
            " 0   Unique ID             20000 non-null  int64  \n",
            " 1   Product ID            20000 non-null  object \n",
            " 2   Quality               19009 non-null  object \n",
            " 3   Ambient T (C)         20000 non-null  float64\n",
            " 4   Process T (C)         19600 non-null  float64\n",
            " 5   Rotation Speed (rpm)  18812 non-null  float64\n",
            " 6   Torque (Nm)           20000 non-null  float64\n",
            " 7   Tool Wear (min)       20000 non-null  int64  \n",
            " 8   Machine Status        20000 non-null  int64  \n",
            "dtypes: float64(4), int64(3), object(2)\n",
            "memory usage: 1.4+ MB\n"
          ]
        }
      ]
    },
    {
      "cell_type": "markdown",
      "source": [
        "It is to be noted that features:\n",
        "\n",
        " *Ambient T (C)*,*Process T (C)*,*Rotation Speed (rpm)* and *Tool Wear (min)* are **Quantitative** features\n",
        "\n",
        "*Quality* is a **nominally valued categorical** feature\n",
        "\n"
      ],
      "metadata": {
        "id": "SQ0Oua0PS1x1"
      }
    },
    {
      "cell_type": "markdown",
      "source": [
        "### Check for null values"
      ],
      "metadata": {
        "id": "5zW6SBo5Sw4y"
      }
    },
    {
      "cell_type": "code",
      "source": [
        "df_eda.isna().sum()"
      ],
      "metadata": {
        "colab": {
          "base_uri": "https://localhost:8080/"
        },
        "id": "eF4W-TQBPsGg",
        "outputId": "5be75749-7c3c-4680-c0b8-bc3279c0c531"
      },
      "execution_count": null,
      "outputs": [
        {
          "output_type": "execute_result",
          "data": {
            "text/plain": [
              "Unique ID                  0\n",
              "Product ID                 0\n",
              "Quality                  991\n",
              "Ambient T (C)              0\n",
              "Process T (C)            400\n",
              "Rotation Speed (rpm)    1188\n",
              "Torque (Nm)                0\n",
              "Tool Wear (min)            0\n",
              "Machine Status             0\n",
              "dtype: int64"
            ]
          },
          "metadata": {},
          "execution_count": 6
        }
      ]
    },
    {
      "cell_type": "markdown",
      "source": [
        "Features *Quailty* , *Process T (C)* and *Rotation Speed (rpm)* have missing values"
      ],
      "metadata": {
        "id": "1TwUftO8V0Qt"
      }
    },
    {
      "cell_type": "code",
      "source": [
        "descriptive_stats = df_eda.describe().T\n",
        "descriptive_stats[\"Proportion of Most Frequent Value\"] = descriptive_stats[\"freq\"] / len(df) * 100\n",
        "descriptive_stats.sort_values(\"Proportion of Most Frequent Value\", ascending=False)\n",
        "descriptive_stats\n"
      ],
      "metadata": {
        "colab": {
          "base_uri": "https://localhost:8080/",
          "height": 269
        },
        "id": "pC7HxvarSyfT",
        "outputId": "250c69a5-e478-4ad0-b066-7e090ddff983"
      },
      "execution_count": null,
      "outputs": [
        {
          "output_type": "execute_result",
          "data": {
            "text/plain": [
              "                        count          mean          std      min      25%  \\\n",
              "Unique ID             20000.0  10000.500000  5773.647028     1.00  5000.75   \n",
              "Ambient T (C)         20000.0     26.904930     2.000834    22.15    25.25   \n",
              "Process T (C)         19600.0     36.904291     1.483647    32.55    35.75   \n",
              "Rotation Speed (rpm)  18812.0   1538.795397   178.674963  1168.00  1423.00   \n",
              "Torque (Nm)           20000.0     39.986910     9.968684     3.80    33.20   \n",
              "Tool Wear (min)       20000.0    107.951000    63.652555     0.00    53.00   \n",
              "Machine Status        20000.0      0.033900     0.180976     0.00     0.00   \n",
              "\n",
              "                           50%       75%       max  \n",
              "Unique ID             10000.50  15000.25  20000.00  \n",
              "Ambient T (C)            26.95     28.45     31.45  \n",
              "Process T (C)            36.95     37.95     40.75  \n",
              "Rotation Speed (rpm)   1503.00   1613.00   2886.00  \n",
              "Torque (Nm)              40.10     46.80     76.60  \n",
              "Tool Wear (min)         108.00    162.00    253.00  \n",
              "Machine Status            0.00      0.00      1.00  "
            ],
            "text/html": [
              "\n",
              "  <div id=\"df-d8f9477c-afcb-4fb2-b0fb-db5da13794f6\">\n",
              "    <div class=\"colab-df-container\">\n",
              "      <div>\n",
              "<style scoped>\n",
              "    .dataframe tbody tr th:only-of-type {\n",
              "        vertical-align: middle;\n",
              "    }\n",
              "\n",
              "    .dataframe tbody tr th {\n",
              "        vertical-align: top;\n",
              "    }\n",
              "\n",
              "    .dataframe thead th {\n",
              "        text-align: right;\n",
              "    }\n",
              "</style>\n",
              "<table border=\"1\" class=\"dataframe\">\n",
              "  <thead>\n",
              "    <tr style=\"text-align: right;\">\n",
              "      <th></th>\n",
              "      <th>count</th>\n",
              "      <th>mean</th>\n",
              "      <th>std</th>\n",
              "      <th>min</th>\n",
              "      <th>25%</th>\n",
              "      <th>50%</th>\n",
              "      <th>75%</th>\n",
              "      <th>max</th>\n",
              "    </tr>\n",
              "  </thead>\n",
              "  <tbody>\n",
              "    <tr>\n",
              "      <th>Unique ID</th>\n",
              "      <td>20000.0</td>\n",
              "      <td>10000.500000</td>\n",
              "      <td>5773.647028</td>\n",
              "      <td>1.00</td>\n",
              "      <td>5000.75</td>\n",
              "      <td>10000.50</td>\n",
              "      <td>15000.25</td>\n",
              "      <td>20000.00</td>\n",
              "    </tr>\n",
              "    <tr>\n",
              "      <th>Ambient T (C)</th>\n",
              "      <td>20000.0</td>\n",
              "      <td>26.904930</td>\n",
              "      <td>2.000834</td>\n",
              "      <td>22.15</td>\n",
              "      <td>25.25</td>\n",
              "      <td>26.95</td>\n",
              "      <td>28.45</td>\n",
              "      <td>31.45</td>\n",
              "    </tr>\n",
              "    <tr>\n",
              "      <th>Process T (C)</th>\n",
              "      <td>19600.0</td>\n",
              "      <td>36.904291</td>\n",
              "      <td>1.483647</td>\n",
              "      <td>32.55</td>\n",
              "      <td>35.75</td>\n",
              "      <td>36.95</td>\n",
              "      <td>37.95</td>\n",
              "      <td>40.75</td>\n",
              "    </tr>\n",
              "    <tr>\n",
              "      <th>Rotation Speed (rpm)</th>\n",
              "      <td>18812.0</td>\n",
              "      <td>1538.795397</td>\n",
              "      <td>178.674963</td>\n",
              "      <td>1168.00</td>\n",
              "      <td>1423.00</td>\n",
              "      <td>1503.00</td>\n",
              "      <td>1613.00</td>\n",
              "      <td>2886.00</td>\n",
              "    </tr>\n",
              "    <tr>\n",
              "      <th>Torque (Nm)</th>\n",
              "      <td>20000.0</td>\n",
              "      <td>39.986910</td>\n",
              "      <td>9.968684</td>\n",
              "      <td>3.80</td>\n",
              "      <td>33.20</td>\n",
              "      <td>40.10</td>\n",
              "      <td>46.80</td>\n",
              "      <td>76.60</td>\n",
              "    </tr>\n",
              "    <tr>\n",
              "      <th>Tool Wear (min)</th>\n",
              "      <td>20000.0</td>\n",
              "      <td>107.951000</td>\n",
              "      <td>63.652555</td>\n",
              "      <td>0.00</td>\n",
              "      <td>53.00</td>\n",
              "      <td>108.00</td>\n",
              "      <td>162.00</td>\n",
              "      <td>253.00</td>\n",
              "    </tr>\n",
              "    <tr>\n",
              "      <th>Machine Status</th>\n",
              "      <td>20000.0</td>\n",
              "      <td>0.033900</td>\n",
              "      <td>0.180976</td>\n",
              "      <td>0.00</td>\n",
              "      <td>0.00</td>\n",
              "      <td>0.00</td>\n",
              "      <td>0.00</td>\n",
              "      <td>1.00</td>\n",
              "    </tr>\n",
              "  </tbody>\n",
              "</table>\n",
              "</div>\n",
              "      <button class=\"colab-df-convert\" onclick=\"convertToInteractive('df-d8f9477c-afcb-4fb2-b0fb-db5da13794f6')\"\n",
              "              title=\"Convert this dataframe to an interactive table.\"\n",
              "              style=\"display:none;\">\n",
              "        \n",
              "  <svg xmlns=\"http://www.w3.org/2000/svg\" height=\"24px\"viewBox=\"0 0 24 24\"\n",
              "       width=\"24px\">\n",
              "    <path d=\"M0 0h24v24H0V0z\" fill=\"none\"/>\n",
              "    <path d=\"M18.56 5.44l.94 2.06.94-2.06 2.06-.94-2.06-.94-.94-2.06-.94 2.06-2.06.94zm-11 1L8.5 8.5l.94-2.06 2.06-.94-2.06-.94L8.5 2.5l-.94 2.06-2.06.94zm10 10l.94 2.06.94-2.06 2.06-.94-2.06-.94-.94-2.06-.94 2.06-2.06.94z\"/><path d=\"M17.41 7.96l-1.37-1.37c-.4-.4-.92-.59-1.43-.59-.52 0-1.04.2-1.43.59L10.3 9.45l-7.72 7.72c-.78.78-.78 2.05 0 2.83L4 21.41c.39.39.9.59 1.41.59.51 0 1.02-.2 1.41-.59l7.78-7.78 2.81-2.81c.8-.78.8-2.07 0-2.86zM5.41 20L4 18.59l7.72-7.72 1.47 1.35L5.41 20z\"/>\n",
              "  </svg>\n",
              "      </button>\n",
              "      \n",
              "  <style>\n",
              "    .colab-df-container {\n",
              "      display:flex;\n",
              "      flex-wrap:wrap;\n",
              "      gap: 12px;\n",
              "    }\n",
              "\n",
              "    .colab-df-convert {\n",
              "      background-color: #E8F0FE;\n",
              "      border: none;\n",
              "      border-radius: 50%;\n",
              "      cursor: pointer;\n",
              "      display: none;\n",
              "      fill: #1967D2;\n",
              "      height: 32px;\n",
              "      padding: 0 0 0 0;\n",
              "      width: 32px;\n",
              "    }\n",
              "\n",
              "    .colab-df-convert:hover {\n",
              "      background-color: #E2EBFA;\n",
              "      box-shadow: 0px 1px 2px rgba(60, 64, 67, 0.3), 0px 1px 3px 1px rgba(60, 64, 67, 0.15);\n",
              "      fill: #174EA6;\n",
              "    }\n",
              "\n",
              "    [theme=dark] .colab-df-convert {\n",
              "      background-color: #3B4455;\n",
              "      fill: #D2E3FC;\n",
              "    }\n",
              "\n",
              "    [theme=dark] .colab-df-convert:hover {\n",
              "      background-color: #434B5C;\n",
              "      box-shadow: 0px 1px 3px 1px rgba(0, 0, 0, 0.15);\n",
              "      filter: drop-shadow(0px 1px 2px rgba(0, 0, 0, 0.3));\n",
              "      fill: #FFFFFF;\n",
              "    }\n",
              "  </style>\n",
              "\n",
              "      <script>\n",
              "        const buttonEl =\n",
              "          document.querySelector('#df-d8f9477c-afcb-4fb2-b0fb-db5da13794f6 button.colab-df-convert');\n",
              "        buttonEl.style.display =\n",
              "          google.colab.kernel.accessAllowed ? 'block' : 'none';\n",
              "\n",
              "        async function convertToInteractive(key) {\n",
              "          const element = document.querySelector('#df-d8f9477c-afcb-4fb2-b0fb-db5da13794f6');\n",
              "          const dataTable =\n",
              "            await google.colab.kernel.invokeFunction('convertToInteractive',\n",
              "                                                     [key], {});\n",
              "          if (!dataTable) return;\n",
              "\n",
              "          const docLinkHtml = 'Like what you see? Visit the ' +\n",
              "            '<a target=\"_blank\" href=https://colab.research.google.com/notebooks/data_table.ipynb>data table notebook</a>'\n",
              "            + ' to learn more about interactive tables.';\n",
              "          element.innerHTML = '';\n",
              "          dataTable['output_type'] = 'display_data';\n",
              "          await google.colab.output.renderOutput(dataTable, element);\n",
              "          const docLink = document.createElement('div');\n",
              "          docLink.innerHTML = docLinkHtml;\n",
              "          element.appendChild(docLink);\n",
              "        }\n",
              "      </script>\n",
              "    </div>\n",
              "  </div>\n",
              "  "
            ]
          },
          "metadata": {},
          "execution_count": 15
        }
      ]
    },
    {
      "cell_type": "markdown",
      "source": [
        "What percentage of target feature is failure idk rephrase later"
      ],
      "metadata": {
        "id": "k5u5wmAtjNnB"
      }
    },
    {
      "cell_type": "code",
      "source": [
        "import matplotlib.ticker as ticker\n",
        "\n",
        "ncount = len(df_eda)\n",
        "\n",
        "plt.figure(figsize=(8,8))\n",
        "ax = sns.countplot(x=\"Machine Status\", data=df_eda)\n",
        "plt.title('Target Distribution')\n",
        "\n",
        "# Make twin axis\n",
        "ax2=ax.twinx()\n",
        "\n",
        "# Switch so count axis is on right, frequency on left\n",
        "ax2.yaxis.tick_left()\n",
        "ax.yaxis.tick_right()\n",
        "\n",
        "# Also switch the labels over\n",
        "ax.yaxis.set_label_position('right')\n",
        "ax2.yaxis.set_label_position('left')\n",
        "\n",
        "ax2.set_ylabel('Frequency [%]')\n",
        "\n",
        "for p in ax.patches:\n",
        "    x=p.get_bbox().get_points()[:,0]\n",
        "    y=p.get_bbox().get_points()[1,1]\n",
        "    ax.annotate('{:.1f}%'.format(100.*y/ncount), (x.mean(), y), \n",
        "            ha='center', va='bottom') # set the alignment of the text\n",
        "\n",
        "# Use a LinearLocator to ensure the correct number of ticks\n",
        "ax.yaxis.set_major_locator(ticker.LinearLocator(11))\n",
        "\n",
        "# Fix the frequency range to 0-100\n",
        "ax2.set_ylim(0,100)\n",
        "ax.set_ylim(0,ncount)\n",
        "\n",
        "# And use a MultipleLocator to ensure a tick spacing of 10\n",
        "ax2.yaxis.set_major_locator(ticker.MultipleLocator(10))\n",
        "\n",
        "# Need to turn the grid on ax2 off, otherwise the gridlines end up on top of the bars\n",
        "ax2.grid(None)"
      ],
      "metadata": {
        "colab": {
          "base_uri": "https://localhost:8080/",
          "height": 513
        },
        "id": "TjnZ1Zv7jUj8",
        "outputId": "a89a9912-12c7-4a26-af77-eb00e30e016a"
      },
      "execution_count": null,
      "outputs": [
        {
          "output_type": "display_data",
          "data": {
            "text/plain": [
              "<Figure size 576x576 with 2 Axes>"
            ],
            "image/png": "[encoded data removed]"
          },
          "metadata": {
            "needs_background": "light"
          }
        }
      ]
    },
    {
      "cell_type": "markdown",
      "source": [
        "Unbalanced class explan smt smt"
      ],
      "metadata": {
        "id": "TALQv33rmpbU"
      }
    },
    {
      "cell_type": "markdown",
      "source": [
        "Just testing dropping all missing data for now can change later"
      ],
      "metadata": {
        "id": "v8JqooRWrwqx"
      }
    },
    {
      "cell_type": "code",
      "source": [
        "df_drop = df.copy()"
      ],
      "metadata": {
        "id": "hTSdLUayr0Ym"
      },
      "execution_count": 3,
      "outputs": []
    },
    {
      "cell_type": "code",
      "source": [
        "df_drop = df_drop.dropna(axis=0,how='any')\n",
        "\n",
        "df_drop"
      ],
      "metadata": {
        "colab": {
          "base_uri": "https://localhost:8080/",
          "height": 424
        },
        "id": "3ErAIWHusBC9",
        "outputId": "a2c709a8-0ced-43ae-b73d-d4c5e523d934"
      },
      "execution_count": 4,
      "outputs": [
        {
          "output_type": "execute_result",
          "data": {
            "text/plain": [
              "       Unique ID Product ID Quality  Ambient T (C)  Process T (C)  \\\n",
              "0              1     K12965       M          24.95          35.45   \n",
              "1              2     Z62710       L          25.05          35.55   \n",
              "2              3     T20224       L          24.95          35.35   \n",
              "3              4     Z33024       L          25.05          35.45   \n",
              "4              5     Z52839       L          25.05          35.55   \n",
              "...          ...        ...     ...            ...            ...   \n",
              "19993      19994     S54280       L          25.75          35.35   \n",
              "19994      19995     S12929       L          25.75          35.25   \n",
              "19996      19997     Z59525       H          25.85          35.35   \n",
              "19998      19999     K42424       H          25.95          35.65   \n",
              "19999      20000     Z10048       M          25.95          35.65   \n",
              "\n",
              "       Rotation Speed (rpm)  Torque (Nm)  Tool Wear (min)  Machine Status  \n",
              "0                    1551.0         42.8                0               0  \n",
              "1                    1408.0         46.3                3               0  \n",
              "2                    1498.0         49.4                5               0  \n",
              "3                    1433.0         39.5                7               0  \n",
              "4                    1408.0         40.0                9               0  \n",
              "...                     ...          ...              ...             ...  \n",
              "19993                1401.0         47.3               10               0  \n",
              "19994                1634.0         27.9               12               0  \n",
              "19996                1632.0         31.8               17               0  \n",
              "19998                1408.0         48.5               25               0  \n",
              "19999                1500.0         40.2               30               0  \n",
              "\n",
              "[17529 rows x 9 columns]"
            ],
            "text/html": [
              "\n",
              "  <div id=\"df-f3cd6ee1-598f-4f13-b4e0-e9d73cff6312\">\n",
              "    <div class=\"colab-df-container\">\n",
              "      <div>\n",
              "<style scoped>\n",
              "    .dataframe tbody tr th:only-of-type {\n",
              "        vertical-align: middle;\n",
              "    }\n",
              "\n",
              "    .dataframe tbody tr th {\n",
              "        vertical-align: top;\n",
              "    }\n",
              "\n",
              "    .dataframe thead th {\n",
              "        text-align: right;\n",
              "    }\n",
              "</style>\n",
              "<table border=\"1\" class=\"dataframe\">\n",
              "  <thead>\n",
              "    <tr style=\"text-align: right;\">\n",
              "      <th></th>\n",
              "      <th>Unique ID</th>\n",
              "      <th>Product ID</th>\n",
              "      <th>Quality</th>\n",
              "      <th>Ambient T (C)</th>\n",
              "      <th>Process T (C)</th>\n",
              "      <th>Rotation Speed (rpm)</th>\n",
              "      <th>Torque (Nm)</th>\n",
              "      <th>Tool Wear (min)</th>\n",
              "      <th>Machine Status</th>\n",
              "    </tr>\n",
              "  </thead>\n",
              "  <tbody>\n",
              "    <tr>\n",
              "      <th>0</th>\n",
              "      <td>1</td>\n",
              "      <td>K12965</td>\n",
              "      <td>M</td>\n",
              "      <td>24.95</td>\n",
              "      <td>35.45</td>\n",
              "      <td>1551.0</td>\n",
              "      <td>42.8</td>\n",
              "      <td>0</td>\n",
              "      <td>0</td>\n",
              "    </tr>\n",
              "    <tr>\n",
              "      <th>1</th>\n",
              "      <td>2</td>\n",
              "      <td>Z62710</td>\n",
              "      <td>L</td>\n",
              "      <td>25.05</td>\n",
              "      <td>35.55</td>\n",
              "      <td>1408.0</td>\n",
              "      <td>46.3</td>\n",
              "      <td>3</td>\n",
              "      <td>0</td>\n",
              "    </tr>\n",
              "    <tr>\n",
              "      <th>2</th>\n",
              "      <td>3</td>\n",
              "      <td>T20224</td>\n",
              "      <td>L</td>\n",
              "      <td>24.95</td>\n",
              "      <td>35.35</td>\n",
              "      <td>1498.0</td>\n",
              "      <td>49.4</td>\n",
              "      <td>5</td>\n",
              "      <td>0</td>\n",
              "    </tr>\n",
              "    <tr>\n",
              "      <th>3</th>\n",
              "      <td>4</td>\n",
              "      <td>Z33024</td>\n",
              "      <td>L</td>\n",
              "      <td>25.05</td>\n",
              "      <td>35.45</td>\n",
              "      <td>1433.0</td>\n",
              "      <td>39.5</td>\n",
              "      <td>7</td>\n",
              "      <td>0</td>\n",
              "    </tr>\n",
              "    <tr>\n",
              "      <th>4</th>\n",
              "      <td>5</td>\n",
              "      <td>Z52839</td>\n",
              "      <td>L</td>\n",
              "      <td>25.05</td>\n",
              "      <td>35.55</td>\n",
              "      <td>1408.0</td>\n",
              "      <td>40.0</td>\n",
              "      <td>9</td>\n",
              "      <td>0</td>\n",
              "    </tr>\n",
              "    <tr>\n",
              "      <th>...</th>\n",
              "      <td>...</td>\n",
              "      <td>...</td>\n",
              "      <td>...</td>\n",
              "      <td>...</td>\n",
              "      <td>...</td>\n",
              "      <td>...</td>\n",
              "      <td>...</td>\n",
              "      <td>...</td>\n",
              "      <td>...</td>\n",
              "    </tr>\n",
              "    <tr>\n",
              "      <th>19993</th>\n",
              "      <td>19994</td>\n",
              "      <td>S54280</td>\n",
              "      <td>L</td>\n",
              "      <td>25.75</td>\n",
              "      <td>35.35</td>\n",
              "      <td>1401.0</td>\n",
              "      <td>47.3</td>\n",
              "      <td>10</td>\n",
              "      <td>0</td>\n",
              "    </tr>\n",
              "    <tr>\n",
              "      <th>19994</th>\n",
              "      <td>19995</td>\n",
              "      <td>S12929</td>\n",
              "      <td>L</td>\n",
              "      <td>25.75</td>\n",
              "      <td>35.25</td>\n",
              "      <td>1634.0</td>\n",
              "      <td>27.9</td>\n",
              "      <td>12</td>\n",
              "      <td>0</td>\n",
              "    </tr>\n",
              "    <tr>\n",
              "      <th>19996</th>\n",
              "      <td>19997</td>\n",
              "      <td>Z59525</td>\n",
              "      <td>H</td>\n",
              "      <td>25.85</td>\n",
              "      <td>35.35</td>\n",
              "      <td>1632.0</td>\n",
              "      <td>31.8</td>\n",
              "      <td>17</td>\n",
              "      <td>0</td>\n",
              "    </tr>\n",
              "    <tr>\n",
              "      <th>19998</th>\n",
              "      <td>19999</td>\n",
              "      <td>K42424</td>\n",
              "      <td>H</td>\n",
              "      <td>25.95</td>\n",
              "      <td>35.65</td>\n",
              "      <td>1408.0</td>\n",
              "      <td>48.5</td>\n",
              "      <td>25</td>\n",
              "      <td>0</td>\n",
              "    </tr>\n",
              "    <tr>\n",
              "      <th>19999</th>\n",
              "      <td>20000</td>\n",
              "      <td>Z10048</td>\n",
              "      <td>M</td>\n",
              "      <td>25.95</td>\n",
              "      <td>35.65</td>\n",
              "      <td>1500.0</td>\n",
              "      <td>40.2</td>\n",
              "      <td>30</td>\n",
              "      <td>0</td>\n",
              "    </tr>\n",
              "  </tbody>\n",
              "</table>\n",
              "<p>17529 rows × 9 columns</p>\n",
              "</div>\n",
              "      <button class=\"colab-df-convert\" onclick=\"convertToInteractive('df-f3cd6ee1-598f-4f13-b4e0-e9d73cff6312')\"\n",
              "              title=\"Convert this dataframe to an interactive table.\"\n",
              "              style=\"display:none;\">\n",
              "        \n",
              "  <svg xmlns=\"http://www.w3.org/2000/svg\" height=\"24px\"viewBox=\"0 0 24 24\"\n",
              "       width=\"24px\">\n",
              "    <path d=\"M0 0h24v24H0V0z\" fill=\"none\"/>\n",
              "    <path d=\"M18.56 5.44l.94 2.06.94-2.06 2.06-.94-2.06-.94-.94-2.06-.94 2.06-2.06.94zm-11 1L8.5 8.5l.94-2.06 2.06-.94-2.06-.94L8.5 2.5l-.94 2.06-2.06.94zm10 10l.94 2.06.94-2.06 2.06-.94-2.06-.94-.94-2.06-.94 2.06-2.06.94z\"/><path d=\"M17.41 7.96l-1.37-1.37c-.4-.4-.92-.59-1.43-.59-.52 0-1.04.2-1.43.59L10.3 9.45l-7.72 7.72c-.78.78-.78 2.05 0 2.83L4 21.41c.39.39.9.59 1.41.59.51 0 1.02-.2 1.41-.59l7.78-7.78 2.81-2.81c.8-.78.8-2.07 0-2.86zM5.41 20L4 18.59l7.72-7.72 1.47 1.35L5.41 20z\"/>\n",
              "  </svg>\n",
              "      </button>\n",
              "      \n",
              "  <style>\n",
              "    .colab-df-container {\n",
              "      display:flex;\n",
              "      flex-wrap:wrap;\n",
              "      gap: 12px;\n",
              "    }\n",
              "\n",
              "    .colab-df-convert {\n",
              "      background-color: #E8F0FE;\n",
              "      border: none;\n",
              "      border-radius: 50%;\n",
              "      cursor: pointer;\n",
              "      display: none;\n",
              "      fill: #1967D2;\n",
              "      height: 32px;\n",
              "      padding: 0 0 0 0;\n",
              "      width: 32px;\n",
              "    }\n",
              "\n",
              "    .colab-df-convert:hover {\n",
              "      background-color: #E2EBFA;\n",
              "      box-shadow: 0px 1px 2px rgba(60, 64, 67, 0.3), 0px 1px 3px 1px rgba(60, 64, 67, 0.15);\n",
              "      fill: #174EA6;\n",
              "    }\n",
              "\n",
              "    [theme=dark] .colab-df-convert {\n",
              "      background-color: #3B4455;\n",
              "      fill: #D2E3FC;\n",
              "    }\n",
              "\n",
              "    [theme=dark] .colab-df-convert:hover {\n",
              "      background-color: #434B5C;\n",
              "      box-shadow: 0px 1px 3px 1px rgba(0, 0, 0, 0.15);\n",
              "      filter: drop-shadow(0px 1px 2px rgba(0, 0, 0, 0.3));\n",
              "      fill: #FFFFFF;\n",
              "    }\n",
              "  </style>\n",
              "\n",
              "      <script>\n",
              "        const buttonEl =\n",
              "          document.querySelector('#df-f3cd6ee1-598f-4f13-b4e0-e9d73cff6312 button.colab-df-convert');\n",
              "        buttonEl.style.display =\n",
              "          google.colab.kernel.accessAllowed ? 'block' : 'none';\n",
              "\n",
              "        async function convertToInteractive(key) {\n",
              "          const element = document.querySelector('#df-f3cd6ee1-598f-4f13-b4e0-e9d73cff6312');\n",
              "          const dataTable =\n",
              "            await google.colab.kernel.invokeFunction('convertToInteractive',\n",
              "                                                     [key], {});\n",
              "          if (!dataTable) return;\n",
              "\n",
              "          const docLinkHtml = 'Like what you see? Visit the ' +\n",
              "            '<a target=\"_blank\" href=https://colab.research.google.com/notebooks/data_table.ipynb>data table notebook</a>'\n",
              "            + ' to learn more about interactive tables.';\n",
              "          element.innerHTML = '';\n",
              "          dataTable['output_type'] = 'display_data';\n",
              "          await google.colab.output.renderOutput(dataTable, element);\n",
              "          const docLink = document.createElement('div');\n",
              "          docLink.innerHTML = docLinkHtml;\n",
              "          element.appendChild(docLink);\n",
              "        }\n",
              "      </script>\n",
              "    </div>\n",
              "  </div>\n",
              "  "
            ]
          },
          "metadata": {},
          "execution_count": 4
        }
      ]
    },
    {
      "cell_type": "code",
      "source": [
        "df_drop.isna().sum()"
      ],
      "metadata": {
        "colab": {
          "base_uri": "https://localhost:8080/"
        },
        "id": "6kRK7oWvsFeQ",
        "outputId": "defb7c55-2341-477a-ce35-a0f7df1712f9"
      },
      "execution_count": 5,
      "outputs": [
        {
          "output_type": "execute_result",
          "data": {
            "text/plain": [
              "Unique ID               0\n",
              "Product ID              0\n",
              "Quality                 0\n",
              "Ambient T (C)           0\n",
              "Process T (C)           0\n",
              "Rotation Speed (rpm)    0\n",
              "Torque (Nm)             0\n",
              "Tool Wear (min)         0\n",
              "Machine Status          0\n",
              "dtype: int64"
            ]
          },
          "metadata": {},
          "execution_count": 5
        }
      ]
    },
    {
      "cell_type": "markdown",
      "source": [
        "## Dropping Usless Columns "
      ],
      "metadata": {
        "id": "R_zOus_UTAT3"
      }
    },
    {
      "cell_type": "code",
      "source": [
        "df_drop = df_drop.drop(columns=['Unique ID','Product ID'])\n",
        "\n",
        "df_drop.columns"
      ],
      "metadata": {
        "colab": {
          "base_uri": "https://localhost:8080/"
        },
        "id": "oSdM_yKaTDUX",
        "outputId": "c1963a03-3d85-4e2b-f09d-f93eab8b23f8"
      },
      "execution_count": 6,
      "outputs": [
        {
          "output_type": "execute_result",
          "data": {
            "text/plain": [
              "Index(['Quality', 'Ambient T (C)', 'Process T (C)', 'Rotation Speed (rpm)',\n",
              "       'Torque (Nm)', 'Tool Wear (min)', 'Machine Status'],\n",
              "      dtype='object')"
            ]
          },
          "metadata": {},
          "execution_count": 6
        }
      ]
    },
    {
      "cell_type": "markdown",
      "source": [
        "## Feature Scaling(Standardisation)"
      ],
      "metadata": {
        "id": "DCgSvZz8SgQc"
      }
    },
    {
      "cell_type": "code",
      "source": [
        "#Saving a copy of the df.impute into df_scaled\n",
        "from sklearn.preprocessing import StandardScaler \n",
        "scaler = StandardScaler()\n",
        "\n",
        "num_col = [\"Ambient T (C)\" ,\"Process T (C)\",\t\"Rotation Speed (rpm)\", \"Torque (Nm)\", \"Tool Wear (min)\"]\n",
        "### Write your code here ###\n",
        "df_drop[num_col] = scaler.fit_transform(df_drop[num_col] )\n",
        "### End ###\n",
        "df_drop"
      ],
      "metadata": {
        "colab": {
          "base_uri": "https://localhost:8080/",
          "height": 424
        },
        "id": "jIBpfOr9Si6x",
        "outputId": "dc756e6a-cb8f-4883-f897-a4825096cf8f"
      },
      "execution_count": 7,
      "outputs": [
        {
          "output_type": "execute_result",
          "data": {
            "text/plain": [
              "      Quality  Ambient T (C)  Process T (C)  Rotation Speed (rpm)  \\\n",
              "0           M      -0.975545      -0.976958              0.067988   \n",
              "1           L      -0.925632      -0.909726             -0.730999   \n",
              "2           L      -0.975545      -1.044190             -0.228140   \n",
              "3           L      -0.925632      -0.976958             -0.591316   \n",
              "4           L      -0.925632      -0.909726             -0.730999   \n",
              "...       ...            ...            ...                   ...   \n",
              "19993       L      -0.576238      -1.044190             -0.770111   \n",
              "19994       L      -0.576238      -1.111422              0.531736   \n",
              "19996       H      -0.526325      -1.044190              0.520561   \n",
              "19998       H      -0.476411      -0.842494             -0.730999   \n",
              "19999       M      -0.476411      -0.842494             -0.216966   \n",
              "\n",
              "       Torque (Nm)  Tool Wear (min)  Machine Status  \n",
              "0         0.281585        -1.699265               0  \n",
              "1         0.632603        -1.652128               0  \n",
              "2         0.943504        -1.620704               0  \n",
              "3        -0.049375        -1.589279               0  \n",
              "4         0.000771        -1.557854               0  \n",
              "...            ...              ...             ...  \n",
              "19993     0.732893        -1.542142               0  \n",
              "19994    -1.212748        -1.510718               0  \n",
              "19996    -0.821614        -1.432156               0  \n",
              "19998     0.853242        -1.306458               0  \n",
              "19999     0.020829        -1.227896               0  \n",
              "\n",
              "[17529 rows x 7 columns]"
            ],
            "text/html": [
              "\n",
              "  <div id=\"df-2c9ec16f-becd-4612-9ed2-848edba987f5\">\n",
              "    <div class=\"colab-df-container\">\n",
              "      <div>\n",
              "<style scoped>\n",
              "    .dataframe tbody tr th:only-of-type {\n",
              "        vertical-align: middle;\n",
              "    }\n",
              "\n",
              "    .dataframe tbody tr th {\n",
              "        vertical-align: top;\n",
              "    }\n",
              "\n",
              "    .dataframe thead th {\n",
              "        text-align: right;\n",
              "    }\n",
              "</style>\n",
              "<table border=\"1\" class=\"dataframe\">\n",
              "  <thead>\n",
              "    <tr style=\"text-align: right;\">\n",
              "      <th></th>\n",
              "      <th>Quality</th>\n",
              "      <th>Ambient T (C)</th>\n",
              "      <th>Process T (C)</th>\n",
              "      <th>Rotation Speed (rpm)</th>\n",
              "      <th>Torque (Nm)</th>\n",
              "      <th>Tool Wear (min)</th>\n",
              "      <th>Machine Status</th>\n",
              "    </tr>\n",
              "  </thead>\n",
              "  <tbody>\n",
              "    <tr>\n",
              "      <th>0</th>\n",
              "      <td>M</td>\n",
              "      <td>-0.975545</td>\n",
              "      <td>-0.976958</td>\n",
              "      <td>0.067988</td>\n",
              "      <td>0.281585</td>\n",
              "      <td>-1.699265</td>\n",
              "      <td>0</td>\n",
              "    </tr>\n",
              "    <tr>\n",
              "      <th>1</th>\n",
              "      <td>L</td>\n",
              "      <td>-0.925632</td>\n",
              "      <td>-0.909726</td>\n",
              "      <td>-0.730999</td>\n",
              "      <td>0.632603</td>\n",
              "      <td>-1.652128</td>\n",
              "      <td>0</td>\n",
              "    </tr>\n",
              "    <tr>\n",
              "      <th>2</th>\n",
              "      <td>L</td>\n",
              "      <td>-0.975545</td>\n",
              "      <td>-1.044190</td>\n",
              "      <td>-0.228140</td>\n",
              "      <td>0.943504</td>\n",
              "      <td>-1.620704</td>\n",
              "      <td>0</td>\n",
              "    </tr>\n",
              "    <tr>\n",
              "      <th>3</th>\n",
              "      <td>L</td>\n",
              "      <td>-0.925632</td>\n",
              "      <td>-0.976958</td>\n",
              "      <td>-0.591316</td>\n",
              "      <td>-0.049375</td>\n",
              "      <td>-1.589279</td>\n",
              "      <td>0</td>\n",
              "    </tr>\n",
              "    <tr>\n",
              "      <th>4</th>\n",
              "      <td>L</td>\n",
              "      <td>-0.925632</td>\n",
              "      <td>-0.909726</td>\n",
              "      <td>-0.730999</td>\n",
              "      <td>0.000771</td>\n",
              "      <td>-1.557854</td>\n",
              "      <td>0</td>\n",
              "    </tr>\n",
              "    <tr>\n",
              "      <th>...</th>\n",
              "      <td>...</td>\n",
              "      <td>...</td>\n",
              "      <td>...</td>\n",
              "      <td>...</td>\n",
              "      <td>...</td>\n",
              "      <td>...</td>\n",
              "      <td>...</td>\n",
              "    </tr>\n",
              "    <tr>\n",
              "      <th>19993</th>\n",
              "      <td>L</td>\n",
              "      <td>-0.576238</td>\n",
              "      <td>-1.044190</td>\n",
              "      <td>-0.770111</td>\n",
              "      <td>0.732893</td>\n",
              "      <td>-1.542142</td>\n",
              "      <td>0</td>\n",
              "    </tr>\n",
              "    <tr>\n",
              "      <th>19994</th>\n",
              "      <td>L</td>\n",
              "      <td>-0.576238</td>\n",
              "      <td>-1.111422</td>\n",
              "      <td>0.531736</td>\n",
              "      <td>-1.212748</td>\n",
              "      <td>-1.510718</td>\n",
              "      <td>0</td>\n",
              "    </tr>\n",
              "    <tr>\n",
              "      <th>19996</th>\n",
              "      <td>H</td>\n",
              "      <td>-0.526325</td>\n",
              "      <td>-1.044190</td>\n",
              "      <td>0.520561</td>\n",
              "      <td>-0.821614</td>\n",
              "      <td>-1.432156</td>\n",
              "      <td>0</td>\n",
              "    </tr>\n",
              "    <tr>\n",
              "      <th>19998</th>\n",
              "      <td>H</td>\n",
              "      <td>-0.476411</td>\n",
              "      <td>-0.842494</td>\n",
              "      <td>-0.730999</td>\n",
              "      <td>0.853242</td>\n",
              "      <td>-1.306458</td>\n",
              "      <td>0</td>\n",
              "    </tr>\n",
              "    <tr>\n",
              "      <th>19999</th>\n",
              "      <td>M</td>\n",
              "      <td>-0.476411</td>\n",
              "      <td>-0.842494</td>\n",
              "      <td>-0.216966</td>\n",
              "      <td>0.020829</td>\n",
              "      <td>-1.227896</td>\n",
              "      <td>0</td>\n",
              "    </tr>\n",
              "  </tbody>\n",
              "</table>\n",
              "<p>17529 rows × 7 columns</p>\n",
              "</div>\n",
              "      <button class=\"colab-df-convert\" onclick=\"convertToInteractive('df-2c9ec16f-becd-4612-9ed2-848edba987f5')\"\n",
              "              title=\"Convert this dataframe to an interactive table.\"\n",
              "              style=\"display:none;\">\n",
              "        \n",
              "  <svg xmlns=\"http://www.w3.org/2000/svg\" height=\"24px\"viewBox=\"0 0 24 24\"\n",
              "       width=\"24px\">\n",
              "    <path d=\"M0 0h24v24H0V0z\" fill=\"none\"/>\n",
              "    <path d=\"M18.56 5.44l.94 2.06.94-2.06 2.06-.94-2.06-.94-.94-2.06-.94 2.06-2.06.94zm-11 1L8.5 8.5l.94-2.06 2.06-.94-2.06-.94L8.5 2.5l-.94 2.06-2.06.94zm10 10l.94 2.06.94-2.06 2.06-.94-2.06-.94-.94-2.06-.94 2.06-2.06.94z\"/><path d=\"M17.41 7.96l-1.37-1.37c-.4-.4-.92-.59-1.43-.59-.52 0-1.04.2-1.43.59L10.3 9.45l-7.72 7.72c-.78.78-.78 2.05 0 2.83L4 21.41c.39.39.9.59 1.41.59.51 0 1.02-.2 1.41-.59l7.78-7.78 2.81-2.81c.8-.78.8-2.07 0-2.86zM5.41 20L4 18.59l7.72-7.72 1.47 1.35L5.41 20z\"/>\n",
              "  </svg>\n",
              "      </button>\n",
              "      \n",
              "  <style>\n",
              "    .colab-df-container {\n",
              "      display:flex;\n",
              "      flex-wrap:wrap;\n",
              "      gap: 12px;\n",
              "    }\n",
              "\n",
              "    .colab-df-convert {\n",
              "      background-color: #E8F0FE;\n",
              "      border: none;\n",
              "      border-radius: 50%;\n",
              "      cursor: pointer;\n",
              "      display: none;\n",
              "      fill: #1967D2;\n",
              "      height: 32px;\n",
              "      padding: 0 0 0 0;\n",
              "      width: 32px;\n",
              "    }\n",
              "\n",
              "    .colab-df-convert:hover {\n",
              "      background-color: #E2EBFA;\n",
              "      box-shadow: 0px 1px 2px rgba(60, 64, 67, 0.3), 0px 1px 3px 1px rgba(60, 64, 67, 0.15);\n",
              "      fill: #174EA6;\n",
              "    }\n",
              "\n",
              "    [theme=dark] .colab-df-convert {\n",
              "      background-color: #3B4455;\n",
              "      fill: #D2E3FC;\n",
              "    }\n",
              "\n",
              "    [theme=dark] .colab-df-convert:hover {\n",
              "      background-color: #434B5C;\n",
              "      box-shadow: 0px 1px 3px 1px rgba(0, 0, 0, 0.15);\n",
              "      filter: drop-shadow(0px 1px 2px rgba(0, 0, 0, 0.3));\n",
              "      fill: #FFFFFF;\n",
              "    }\n",
              "  </style>\n",
              "\n",
              "      <script>\n",
              "        const buttonEl =\n",
              "          document.querySelector('#df-2c9ec16f-becd-4612-9ed2-848edba987f5 button.colab-df-convert');\n",
              "        buttonEl.style.display =\n",
              "          google.colab.kernel.accessAllowed ? 'block' : 'none';\n",
              "\n",
              "        async function convertToInteractive(key) {\n",
              "          const element = document.querySelector('#df-2c9ec16f-becd-4612-9ed2-848edba987f5');\n",
              "          const dataTable =\n",
              "            await google.colab.kernel.invokeFunction('convertToInteractive',\n",
              "                                                     [key], {});\n",
              "          if (!dataTable) return;\n",
              "\n",
              "          const docLinkHtml = 'Like what you see? Visit the ' +\n",
              "            '<a target=\"_blank\" href=https://colab.research.google.com/notebooks/data_table.ipynb>data table notebook</a>'\n",
              "            + ' to learn more about interactive tables.';\n",
              "          element.innerHTML = '';\n",
              "          dataTable['output_type'] = 'display_data';\n",
              "          await google.colab.output.renderOutput(dataTable, element);\n",
              "          const docLink = document.createElement('div');\n",
              "          docLink.innerHTML = docLinkHtml;\n",
              "          element.appendChild(docLink);\n",
              "        }\n",
              "      </script>\n",
              "    </div>\n",
              "  </div>\n",
              "  "
            ]
          },
          "metadata": {},
          "execution_count": 7
        }
      ]
    },
    {
      "cell_type": "markdown",
      "source": [
        "## Ordinal Encoding"
      ],
      "metadata": {
        "id": "EQFCMIvpT0eX"
      }
    },
    {
      "cell_type": "code",
      "source": [
        "#List unique value of flat_type with unique()\n",
        "df_drop['Quality'].unique()"
      ],
      "metadata": {
        "colab": {
          "base_uri": "https://localhost:8080/"
        },
        "id": "THmrXcWDT5WY",
        "outputId": "21434bf1-8cfc-48eb-9cd2-db84cd5d3c6e"
      },
      "execution_count": 8,
      "outputs": [
        {
          "output_type": "execute_result",
          "data": {
            "text/plain": [
              "array(['M', 'L', 'H'], dtype=object)"
            ]
          },
          "metadata": {},
          "execution_count": 8
        }
      ]
    },
    {
      "cell_type": "code",
      "source": [
        "from sklearn.preprocessing import OrdinalEncoder\n",
        "encoded = OrdinalEncoder()\n",
        "encoded.fit([\n",
        "        ['M'],\n",
        "        ['L'],\n",
        "        ['H']\n",
        "    ])\n",
        "df_encoded = encoded.transform(df_drop[[\"Quality\"]])\n",
        "### End ###\n",
        "df_encoded"
      ],
      "metadata": {
        "colab": {
          "base_uri": "https://localhost:8080/"
        },
        "id": "RXSYqzi1UB3V",
        "outputId": "28da9ce8-ea7b-499f-c29a-3b7dd5215182"
      },
      "execution_count": 9,
      "outputs": [
        {
          "output_type": "stream",
          "name": "stderr",
          "text": [
            "/usr/local/lib/python3.7/dist-packages/sklearn/base.py:444: UserWarning: X has feature names, but OrdinalEncoder was fitted without feature names\n",
            "  f\"X has feature names, but {self.__class__.__name__} was fitted without\"\n"
          ]
        },
        {
          "output_type": "execute_result",
          "data": {
            "text/plain": [
              "array([[2.],\n",
              "       [1.],\n",
              "       [1.],\n",
              "       ...,\n",
              "       [0.],\n",
              "       [0.],\n",
              "       [2.]])"
            ]
          },
          "metadata": {},
          "execution_count": 9
        }
      ]
    },
    {
      "cell_type": "code",
      "source": [
        "#save Quailty type column of df_drop into df_encoded \n",
        "df_drop[\"Quality\"] = df_encoded"
      ],
      "metadata": {
        "id": "Vwj_SweFUi9T"
      },
      "execution_count": 10,
      "outputs": []
    },
    {
      "cell_type": "code",
      "source": [
        "df_drop"
      ],
      "metadata": {
        "colab": {
          "base_uri": "https://localhost:8080/",
          "height": 424
        },
        "id": "di3rADhuUyrr",
        "outputId": "d878b52b-9a3e-4a14-8a7b-72754c71a9e8"
      },
      "execution_count": 11,
      "outputs": [
        {
          "output_type": "execute_result",
          "data": {
            "text/plain": [
              "       Quality  Ambient T (C)  Process T (C)  Rotation Speed (rpm)  \\\n",
              "0          2.0      -0.975545      -0.976958              0.067988   \n",
              "1          1.0      -0.925632      -0.909726             -0.730999   \n",
              "2          1.0      -0.975545      -1.044190             -0.228140   \n",
              "3          1.0      -0.925632      -0.976958             -0.591316   \n",
              "4          1.0      -0.925632      -0.909726             -0.730999   \n",
              "...        ...            ...            ...                   ...   \n",
              "19993      1.0      -0.576238      -1.044190             -0.770111   \n",
              "19994      1.0      -0.576238      -1.111422              0.531736   \n",
              "19996      0.0      -0.526325      -1.044190              0.520561   \n",
              "19998      0.0      -0.476411      -0.842494             -0.730999   \n",
              "19999      2.0      -0.476411      -0.842494             -0.216966   \n",
              "\n",
              "       Torque (Nm)  Tool Wear (min)  Machine Status  \n",
              "0         0.281585        -1.699265               0  \n",
              "1         0.632603        -1.652128               0  \n",
              "2         0.943504        -1.620704               0  \n",
              "3        -0.049375        -1.589279               0  \n",
              "4         0.000771        -1.557854               0  \n",
              "...            ...              ...             ...  \n",
              "19993     0.732893        -1.542142               0  \n",
              "19994    -1.212748        -1.510718               0  \n",
              "19996    -0.821614        -1.432156               0  \n",
              "19998     0.853242        -1.306458               0  \n",
              "19999     0.020829        -1.227896               0  \n",
              "\n",
              "[17529 rows x 7 columns]"
            ],
            "text/html": [
              "\n",
              "  <div id=\"df-9d81a2b0-55c4-4396-945c-284bd70fa355\">\n",
              "    <div class=\"colab-df-container\">\n",
              "      <div>\n",
              "<style scoped>\n",
              "    .dataframe tbody tr th:only-of-type {\n",
              "        vertical-align: middle;\n",
              "    }\n",
              "\n",
              "    .dataframe tbody tr th {\n",
              "        vertical-align: top;\n",
              "    }\n",
              "\n",
              "    .dataframe thead th {\n",
              "        text-align: right;\n",
              "    }\n",
              "</style>\n",
              "<table border=\"1\" class=\"dataframe\">\n",
              "  <thead>\n",
              "    <tr style=\"text-align: right;\">\n",
              "      <th></th>\n",
              "      <th>Quality</th>\n",
              "      <th>Ambient T (C)</th>\n",
              "      <th>Process T (C)</th>\n",
              "      <th>Rotation Speed (rpm)</th>\n",
              "      <th>Torque (Nm)</th>\n",
              "      <th>Tool Wear (min)</th>\n",
              "      <th>Machine Status</th>\n",
              "    </tr>\n",
              "  </thead>\n",
              "  <tbody>\n",
              "    <tr>\n",
              "      <th>0</th>\n",
              "      <td>2.0</td>\n",
              "      <td>-0.975545</td>\n",
              "      <td>-0.976958</td>\n",
              "      <td>0.067988</td>\n",
              "      <td>0.281585</td>\n",
              "      <td>-1.699265</td>\n",
              "      <td>0</td>\n",
              "    </tr>\n",
              "    <tr>\n",
              "      <th>1</th>\n",
              "      <td>1.0</td>\n",
              "      <td>-0.925632</td>\n",
              "      <td>-0.909726</td>\n",
              "      <td>-0.730999</td>\n",
              "      <td>0.632603</td>\n",
              "      <td>-1.652128</td>\n",
              "      <td>0</td>\n",
              "    </tr>\n",
              "    <tr>\n",
              "      <th>2</th>\n",
              "      <td>1.0</td>\n",
              "      <td>-0.975545</td>\n",
              "      <td>-1.044190</td>\n",
              "      <td>-0.228140</td>\n",
              "      <td>0.943504</td>\n",
              "      <td>-1.620704</td>\n",
              "      <td>0</td>\n",
              "    </tr>\n",
              "    <tr>\n",
              "      <th>3</th>\n",
              "      <td>1.0</td>\n",
              "      <td>-0.925632</td>\n",
              "      <td>-0.976958</td>\n",
              "      <td>-0.591316</td>\n",
              "      <td>-0.049375</td>\n",
              "      <td>-1.589279</td>\n",
              "      <td>0</td>\n",
              "    </tr>\n",
              "    <tr>\n",
              "      <th>4</th>\n",
              "      <td>1.0</td>\n",
              "      <td>-0.925632</td>\n",
              "      <td>-0.909726</td>\n",
              "      <td>-0.730999</td>\n",
              "      <td>0.000771</td>\n",
              "      <td>-1.557854</td>\n",
              "      <td>0</td>\n",
              "    </tr>\n",
              "    <tr>\n",
              "      <th>...</th>\n",
              "      <td>...</td>\n",
              "      <td>...</td>\n",
              "      <td>...</td>\n",
              "      <td>...</td>\n",
              "      <td>...</td>\n",
              "      <td>...</td>\n",
              "      <td>...</td>\n",
              "    </tr>\n",
              "    <tr>\n",
              "      <th>19993</th>\n",
              "      <td>1.0</td>\n",
              "      <td>-0.576238</td>\n",
              "      <td>-1.044190</td>\n",
              "      <td>-0.770111</td>\n",
              "      <td>0.732893</td>\n",
              "      <td>-1.542142</td>\n",
              "      <td>0</td>\n",
              "    </tr>\n",
              "    <tr>\n",
              "      <th>19994</th>\n",
              "      <td>1.0</td>\n",
              "      <td>-0.576238</td>\n",
              "      <td>-1.111422</td>\n",
              "      <td>0.531736</td>\n",
              "      <td>-1.212748</td>\n",
              "      <td>-1.510718</td>\n",
              "      <td>0</td>\n",
              "    </tr>\n",
              "    <tr>\n",
              "      <th>19996</th>\n",
              "      <td>0.0</td>\n",
              "      <td>-0.526325</td>\n",
              "      <td>-1.044190</td>\n",
              "      <td>0.520561</td>\n",
              "      <td>-0.821614</td>\n",
              "      <td>-1.432156</td>\n",
              "      <td>0</td>\n",
              "    </tr>\n",
              "    <tr>\n",
              "      <th>19998</th>\n",
              "      <td>0.0</td>\n",
              "      <td>-0.476411</td>\n",
              "      <td>-0.842494</td>\n",
              "      <td>-0.730999</td>\n",
              "      <td>0.853242</td>\n",
              "      <td>-1.306458</td>\n",
              "      <td>0</td>\n",
              "    </tr>\n",
              "    <tr>\n",
              "      <th>19999</th>\n",
              "      <td>2.0</td>\n",
              "      <td>-0.476411</td>\n",
              "      <td>-0.842494</td>\n",
              "      <td>-0.216966</td>\n",
              "      <td>0.020829</td>\n",
              "      <td>-1.227896</td>\n",
              "      <td>0</td>\n",
              "    </tr>\n",
              "  </tbody>\n",
              "</table>\n",
              "<p>17529 rows × 7 columns</p>\n",
              "</div>\n",
              "      <button class=\"colab-df-convert\" onclick=\"convertToInteractive('df-9d81a2b0-55c4-4396-945c-284bd70fa355')\"\n",
              "              title=\"Convert this dataframe to an interactive table.\"\n",
              "              style=\"display:none;\">\n",
              "        \n",
              "  <svg xmlns=\"http://www.w3.org/2000/svg\" height=\"24px\"viewBox=\"0 0 24 24\"\n",
              "       width=\"24px\">\n",
              "    <path d=\"M0 0h24v24H0V0z\" fill=\"none\"/>\n",
              "    <path d=\"M18.56 5.44l.94 2.06.94-2.06 2.06-.94-2.06-.94-.94-2.06-.94 2.06-2.06.94zm-11 1L8.5 8.5l.94-2.06 2.06-.94-2.06-.94L8.5 2.5l-.94 2.06-2.06.94zm10 10l.94 2.06.94-2.06 2.06-.94-2.06-.94-.94-2.06-.94 2.06-2.06.94z\"/><path d=\"M17.41 7.96l-1.37-1.37c-.4-.4-.92-.59-1.43-.59-.52 0-1.04.2-1.43.59L10.3 9.45l-7.72 7.72c-.78.78-.78 2.05 0 2.83L4 21.41c.39.39.9.59 1.41.59.51 0 1.02-.2 1.41-.59l7.78-7.78 2.81-2.81c.8-.78.8-2.07 0-2.86zM5.41 20L4 18.59l7.72-7.72 1.47 1.35L5.41 20z\"/>\n",
              "  </svg>\n",
              "      </button>\n",
              "      \n",
              "  <style>\n",
              "    .colab-df-container {\n",
              "      display:flex;\n",
              "      flex-wrap:wrap;\n",
              "      gap: 12px;\n",
              "    }\n",
              "\n",
              "    .colab-df-convert {\n",
              "      background-color: #E8F0FE;\n",
              "      border: none;\n",
              "      border-radius: 50%;\n",
              "      cursor: pointer;\n",
              "      display: none;\n",
              "      fill: #1967D2;\n",
              "      height: 32px;\n",
              "      padding: 0 0 0 0;\n",
              "      width: 32px;\n",
              "    }\n",
              "\n",
              "    .colab-df-convert:hover {\n",
              "      background-color: #E2EBFA;\n",
              "      box-shadow: 0px 1px 2px rgba(60, 64, 67, 0.3), 0px 1px 3px 1px rgba(60, 64, 67, 0.15);\n",
              "      fill: #174EA6;\n",
              "    }\n",
              "\n",
              "    [theme=dark] .colab-df-convert {\n",
              "      background-color: #3B4455;\n",
              "      fill: #D2E3FC;\n",
              "    }\n",
              "\n",
              "    [theme=dark] .colab-df-convert:hover {\n",
              "      background-color: #434B5C;\n",
              "      box-shadow: 0px 1px 3px 1px rgba(0, 0, 0, 0.15);\n",
              "      filter: drop-shadow(0px 1px 2px rgba(0, 0, 0, 0.3));\n",
              "      fill: #FFFFFF;\n",
              "    }\n",
              "  </style>\n",
              "\n",
              "      <script>\n",
              "        const buttonEl =\n",
              "          document.querySelector('#df-9d81a2b0-55c4-4396-945c-284bd70fa355 button.colab-df-convert');\n",
              "        buttonEl.style.display =\n",
              "          google.colab.kernel.accessAllowed ? 'block' : 'none';\n",
              "\n",
              "        async function convertToInteractive(key) {\n",
              "          const element = document.querySelector('#df-9d81a2b0-55c4-4396-945c-284bd70fa355');\n",
              "          const dataTable =\n",
              "            await google.colab.kernel.invokeFunction('convertToInteractive',\n",
              "                                                     [key], {});\n",
              "          if (!dataTable) return;\n",
              "\n",
              "          const docLinkHtml = 'Like what you see? Visit the ' +\n",
              "            '<a target=\"_blank\" href=https://colab.research.google.com/notebooks/data_table.ipynb>data table notebook</a>'\n",
              "            + ' to learn more about interactive tables.';\n",
              "          element.innerHTML = '';\n",
              "          dataTable['output_type'] = 'display_data';\n",
              "          await google.colab.output.renderOutput(dataTable, element);\n",
              "          const docLink = document.createElement('div');\n",
              "          docLink.innerHTML = docLinkHtml;\n",
              "          element.appendChild(docLink);\n",
              "        }\n",
              "      </script>\n",
              "    </div>\n",
              "  </div>\n",
              "  "
            ]
          },
          "metadata": {},
          "execution_count": 11
        }
      ]
    },
    {
      "cell_type": "markdown",
      "source": [
        "# Extracting Features, `X` and Target Variable, `y`"
      ],
      "metadata": {
        "id": "eAopX6GRRZs-"
      }
    },
    {
      "cell_type": "code",
      "source": [
        "X = df_drop.drop(columns=['Machine Status'])\n",
        "y = df_drop['Machine Status']"
      ],
      "metadata": {
        "id": "Y2qdt4P2skU0"
      },
      "execution_count": 12,
      "outputs": []
    },
    {
      "cell_type": "code",
      "source": [
        "X"
      ],
      "metadata": {
        "colab": {
          "base_uri": "https://localhost:8080/",
          "height": 424
        },
        "id": "ghi2HS21Rj6i",
        "outputId": "a2d03941-a43c-4785-ff45-e69262390c20"
      },
      "execution_count": 13,
      "outputs": [
        {
          "output_type": "execute_result",
          "data": {
            "text/plain": [
              "       Quality  Ambient T (C)  Process T (C)  Rotation Speed (rpm)  \\\n",
              "0          2.0      -0.975545      -0.976958              0.067988   \n",
              "1          1.0      -0.925632      -0.909726             -0.730999   \n",
              "2          1.0      -0.975545      -1.044190             -0.228140   \n",
              "3          1.0      -0.925632      -0.976958             -0.591316   \n",
              "4          1.0      -0.925632      -0.909726             -0.730999   \n",
              "...        ...            ...            ...                   ...   \n",
              "19993      1.0      -0.576238      -1.044190             -0.770111   \n",
              "19994      1.0      -0.576238      -1.111422              0.531736   \n",
              "19996      0.0      -0.526325      -1.044190              0.520561   \n",
              "19998      0.0      -0.476411      -0.842494             -0.730999   \n",
              "19999      2.0      -0.476411      -0.842494             -0.216966   \n",
              "\n",
              "       Torque (Nm)  Tool Wear (min)  \n",
              "0         0.281585        -1.699265  \n",
              "1         0.632603        -1.652128  \n",
              "2         0.943504        -1.620704  \n",
              "3        -0.049375        -1.589279  \n",
              "4         0.000771        -1.557854  \n",
              "...            ...              ...  \n",
              "19993     0.732893        -1.542142  \n",
              "19994    -1.212748        -1.510718  \n",
              "19996    -0.821614        -1.432156  \n",
              "19998     0.853242        -1.306458  \n",
              "19999     0.020829        -1.227896  \n",
              "\n",
              "[17529 rows x 6 columns]"
            ],
            "text/html": [
              "\n",
              "  <div id=\"df-bf9750c5-b450-4887-ac1c-b86afd29af0f\">\n",
              "    <div class=\"colab-df-container\">\n",
              "      <div>\n",
              "<style scoped>\n",
              "    .dataframe tbody tr th:only-of-type {\n",
              "        vertical-align: middle;\n",
              "    }\n",
              "\n",
              "    .dataframe tbody tr th {\n",
              "        vertical-align: top;\n",
              "    }\n",
              "\n",
              "    .dataframe thead th {\n",
              "        text-align: right;\n",
              "    }\n",
              "</style>\n",
              "<table border=\"1\" class=\"dataframe\">\n",
              "  <thead>\n",
              "    <tr style=\"text-align: right;\">\n",
              "      <th></th>\n",
              "      <th>Quality</th>\n",
              "      <th>Ambient T (C)</th>\n",
              "      <th>Process T (C)</th>\n",
              "      <th>Rotation Speed (rpm)</th>\n",
              "      <th>Torque (Nm)</th>\n",
              "      <th>Tool Wear (min)</th>\n",
              "    </tr>\n",
              "  </thead>\n",
              "  <tbody>\n",
              "    <tr>\n",
              "      <th>0</th>\n",
              "      <td>2.0</td>\n",
              "      <td>-0.975545</td>\n",
              "      <td>-0.976958</td>\n",
              "      <td>0.067988</td>\n",
              "      <td>0.281585</td>\n",
              "      <td>-1.699265</td>\n",
              "    </tr>\n",
              "    <tr>\n",
              "      <th>1</th>\n",
              "      <td>1.0</td>\n",
              "      <td>-0.925632</td>\n",
              "      <td>-0.909726</td>\n",
              "      <td>-0.730999</td>\n",
              "      <td>0.632603</td>\n",
              "      <td>-1.652128</td>\n",
              "    </tr>\n",
              "    <tr>\n",
              "      <th>2</th>\n",
              "      <td>1.0</td>\n",
              "      <td>-0.975545</td>\n",
              "      <td>-1.044190</td>\n",
              "      <td>-0.228140</td>\n",
              "      <td>0.943504</td>\n",
              "      <td>-1.620704</td>\n",
              "    </tr>\n",
              "    <tr>\n",
              "      <th>3</th>\n",
              "      <td>1.0</td>\n",
              "      <td>-0.925632</td>\n",
              "      <td>-0.976958</td>\n",
              "      <td>-0.591316</td>\n",
              "      <td>-0.049375</td>\n",
              "      <td>-1.589279</td>\n",
              "    </tr>\n",
              "    <tr>\n",
              "      <th>4</th>\n",
              "      <td>1.0</td>\n",
              "      <td>-0.925632</td>\n",
              "      <td>-0.909726</td>\n",
              "      <td>-0.730999</td>\n",
              "      <td>0.000771</td>\n",
              "      <td>-1.557854</td>\n",
              "    </tr>\n",
              "    <tr>\n",
              "      <th>...</th>\n",
              "      <td>...</td>\n",
              "      <td>...</td>\n",
              "      <td>...</td>\n",
              "      <td>...</td>\n",
              "      <td>...</td>\n",
              "      <td>...</td>\n",
              "    </tr>\n",
              "    <tr>\n",
              "      <th>19993</th>\n",
              "      <td>1.0</td>\n",
              "      <td>-0.576238</td>\n",
              "      <td>-1.044190</td>\n",
              "      <td>-0.770111</td>\n",
              "      <td>0.732893</td>\n",
              "      <td>-1.542142</td>\n",
              "    </tr>\n",
              "    <tr>\n",
              "      <th>19994</th>\n",
              "      <td>1.0</td>\n",
              "      <td>-0.576238</td>\n",
              "      <td>-1.111422</td>\n",
              "      <td>0.531736</td>\n",
              "      <td>-1.212748</td>\n",
              "      <td>-1.510718</td>\n",
              "    </tr>\n",
              "    <tr>\n",
              "      <th>19996</th>\n",
              "      <td>0.0</td>\n",
              "      <td>-0.526325</td>\n",
              "      <td>-1.044190</td>\n",
              "      <td>0.520561</td>\n",
              "      <td>-0.821614</td>\n",
              "      <td>-1.432156</td>\n",
              "    </tr>\n",
              "    <tr>\n",
              "      <th>19998</th>\n",
              "      <td>0.0</td>\n",
              "      <td>-0.476411</td>\n",
              "      <td>-0.842494</td>\n",
              "      <td>-0.730999</td>\n",
              "      <td>0.853242</td>\n",
              "      <td>-1.306458</td>\n",
              "    </tr>\n",
              "    <tr>\n",
              "      <th>19999</th>\n",
              "      <td>2.0</td>\n",
              "      <td>-0.476411</td>\n",
              "      <td>-0.842494</td>\n",
              "      <td>-0.216966</td>\n",
              "      <td>0.020829</td>\n",
              "      <td>-1.227896</td>\n",
              "    </tr>\n",
              "  </tbody>\n",
              "</table>\n",
              "<p>17529 rows × 6 columns</p>\n",
              "</div>\n",
              "      <button class=\"colab-df-convert\" onclick=\"convertToInteractive('df-bf9750c5-b450-4887-ac1c-b86afd29af0f')\"\n",
              "              title=\"Convert this dataframe to an interactive table.\"\n",
              "              style=\"display:none;\">\n",
              "        \n",
              "  <svg xmlns=\"http://www.w3.org/2000/svg\" height=\"24px\"viewBox=\"0 0 24 24\"\n",
              "       width=\"24px\">\n",
              "    <path d=\"M0 0h24v24H0V0z\" fill=\"none\"/>\n",
              "    <path d=\"M18.56 5.44l.94 2.06.94-2.06 2.06-.94-2.06-.94-.94-2.06-.94 2.06-2.06.94zm-11 1L8.5 8.5l.94-2.06 2.06-.94-2.06-.94L8.5 2.5l-.94 2.06-2.06.94zm10 10l.94 2.06.94-2.06 2.06-.94-2.06-.94-.94-2.06-.94 2.06-2.06.94z\"/><path d=\"M17.41 7.96l-1.37-1.37c-.4-.4-.92-.59-1.43-.59-.52 0-1.04.2-1.43.59L10.3 9.45l-7.72 7.72c-.78.78-.78 2.05 0 2.83L4 21.41c.39.39.9.59 1.41.59.51 0 1.02-.2 1.41-.59l7.78-7.78 2.81-2.81c.8-.78.8-2.07 0-2.86zM5.41 20L4 18.59l7.72-7.72 1.47 1.35L5.41 20z\"/>\n",
              "  </svg>\n",
              "      </button>\n",
              "      \n",
              "  <style>\n",
              "    .colab-df-container {\n",
              "      display:flex;\n",
              "      flex-wrap:wrap;\n",
              "      gap: 12px;\n",
              "    }\n",
              "\n",
              "    .colab-df-convert {\n",
              "      background-color: #E8F0FE;\n",
              "      border: none;\n",
              "      border-radius: 50%;\n",
              "      cursor: pointer;\n",
              "      display: none;\n",
              "      fill: #1967D2;\n",
              "      height: 32px;\n",
              "      padding: 0 0 0 0;\n",
              "      width: 32px;\n",
              "    }\n",
              "\n",
              "    .colab-df-convert:hover {\n",
              "      background-color: #E2EBFA;\n",
              "      box-shadow: 0px 1px 2px rgba(60, 64, 67, 0.3), 0px 1px 3px 1px rgba(60, 64, 67, 0.15);\n",
              "      fill: #174EA6;\n",
              "    }\n",
              "\n",
              "    [theme=dark] .colab-df-convert {\n",
              "      background-color: #3B4455;\n",
              "      fill: #D2E3FC;\n",
              "    }\n",
              "\n",
              "    [theme=dark] .colab-df-convert:hover {\n",
              "      background-color: #434B5C;\n",
              "      box-shadow: 0px 1px 3px 1px rgba(0, 0, 0, 0.15);\n",
              "      filter: drop-shadow(0px 1px 2px rgba(0, 0, 0, 0.3));\n",
              "      fill: #FFFFFF;\n",
              "    }\n",
              "  </style>\n",
              "\n",
              "      <script>\n",
              "        const buttonEl =\n",
              "          document.querySelector('#df-bf9750c5-b450-4887-ac1c-b86afd29af0f button.colab-df-convert');\n",
              "        buttonEl.style.display =\n",
              "          google.colab.kernel.accessAllowed ? 'block' : 'none';\n",
              "\n",
              "        async function convertToInteractive(key) {\n",
              "          const element = document.querySelector('#df-bf9750c5-b450-4887-ac1c-b86afd29af0f');\n",
              "          const dataTable =\n",
              "            await google.colab.kernel.invokeFunction('convertToInteractive',\n",
              "                                                     [key], {});\n",
              "          if (!dataTable) return;\n",
              "\n",
              "          const docLinkHtml = 'Like what you see? Visit the ' +\n",
              "            '<a target=\"_blank\" href=https://colab.research.google.com/notebooks/data_table.ipynb>data table notebook</a>'\n",
              "            + ' to learn more about interactive tables.';\n",
              "          element.innerHTML = '';\n",
              "          dataTable['output_type'] = 'display_data';\n",
              "          await google.colab.output.renderOutput(dataTable, element);\n",
              "          const docLink = document.createElement('div');\n",
              "          docLink.innerHTML = docLinkHtml;\n",
              "          element.appendChild(docLink);\n",
              "        }\n",
              "      </script>\n",
              "    </div>\n",
              "  </div>\n",
              "  "
            ]
          },
          "metadata": {},
          "execution_count": 13
        }
      ]
    },
    {
      "cell_type": "code",
      "source": [
        "y"
      ],
      "metadata": {
        "colab": {
          "base_uri": "https://localhost:8080/"
        },
        "id": "d4U0fbvCRluB",
        "outputId": "4c24a6e7-31ce-41e8-c2f8-50a3c5d1138f"
      },
      "execution_count": 14,
      "outputs": [
        {
          "output_type": "execute_result",
          "data": {
            "text/plain": [
              "0        0\n",
              "1        0\n",
              "2        0\n",
              "3        0\n",
              "4        0\n",
              "        ..\n",
              "19993    0\n",
              "19994    0\n",
              "19996    0\n",
              "19998    0\n",
              "19999    0\n",
              "Name: Machine Status, Length: 17529, dtype: int64"
            ]
          },
          "metadata": {},
          "execution_count": 14
        }
      ]
    },
    {
      "cell_type": "code",
      "source": [
        "# Import train_test_split function from sklearn library\n",
        "from sklearn.model_selection import train_test_split\n",
        "\n",
        "X_train,X_test,y_train,y_test= train_test_split(X,y,test_size=0.2,random_state=42)"
      ],
      "metadata": {
        "id": "ACAEeQnGRmOb"
      },
      "execution_count": 15,
      "outputs": []
    },
    {
      "cell_type": "markdown",
      "source": [
        "# Model Fitting and Prediction"
      ],
      "metadata": {
        "id": "Vdn8V_PASDG4"
      }
    },
    {
      "cell_type": "code",
      "source": [
        "from sklearn.linear_model import LogisticRegression # import LogisticRegression class from sklearn.linear_model\n",
        "from sklearn.metrics import f1_score\n",
        "\n",
        "logrex = LogisticRegression()\n",
        "\n",
        "logrex.fit(X_train, y_train)\n",
        "\n",
        "prediction = logrex.predict(X_test)\n",
        "\n",
        "print(f\"Test F1 Score\\t:{f1_score(y_test, prediction)}\") # Test F1 Score"
      ],
      "metadata": {
        "colab": {
          "base_uri": "https://localhost:8080/"
        },
        "id": "8koCw5grSAd9",
        "outputId": "696de303-447e-4c26-9db5-e781d098b273"
      },
      "execution_count": 21,
      "outputs": [
        {
          "output_type": "stream",
          "name": "stdout",
          "text": [
            "Test F1 Score\t:0.3076923076923077\n"
          ]
        }
      ]
    },
    {
      "cell_type": "code",
      "source": [
        "def plot_learning_curve(model, X, y, scoring, cv = StratifiedKFold(shuffle=True, random_state = 42), train_sizes = np.linspace(.1, 1.0, 10)):\n",
        "  try:\n",
        "    model_name = type(model[-1]).__name__ \n",
        "  except:\n",
        "    model_name = type(model).__name__\n",
        "  fig, ax = plt.subplots(figsize=(10, 8))\n",
        "  train_sizes, train_scores, test_scores = learning_curve(model, X, y, cv = cv, n_jobs = -1, train_sizes = train_sizes, scoring=scoring)\n",
        "  scores = pd.DataFrame({\n",
        "      \"Train Sizes\" : np.tile(train_sizes, train_scores.shape[1]),\n",
        "      \"Train Scores\" : train_scores.flatten(),\n",
        "      \"Test Scores\" : test_scores.flatten()\n",
        "  }).melt(value_vars=[\"Train Scores\", \"Test Scores\"], var_name=\"Score Type\", value_name=\"Scores\", id_vars=[\"Train Sizes\"])\n",
        "  sns.lineplot(data=scores, x=\"Train Sizes\", y=\"Scores\", hue=\"Score Type\", ax = ax)\n",
        "  ax.set_title(f\"Learning Curve of {model_name}\")\n",
        "  ax.set_ylabel(f\"{scoring}\")\n",
        "  ax.set_xlabel(\"Train Sizes\")\n",
        "  return fig"
      ],
      "metadata": {
        "id": "QzsLLR2Fkl2x"
      },
      "execution_count": 17,
      "outputs": []
    },
    {
      "cell_type": "code",
      "source": [
        "f1_score = make_scorer(fbeta_score, beta = 2) # define our f2 score"
      ],
      "metadata": {
        "id": "1nTIMB44mmD8"
      },
      "execution_count": 18,
      "outputs": []
    },
    {
      "cell_type": "code",
      "source": [
        "plot_learning_curve(logrex,X_train,y_train,scoring=f1_score)"
      ],
      "metadata": {
        "colab": {
          "base_uri": "https://localhost:8080/",
          "height": 1000
        },
        "id": "048prP1Bl6Uc",
        "outputId": "f891ad9b-645e-402a-d33a-7da705ef2df7"
      },
      "execution_count": 19,
      "outputs": [
        {
          "output_type": "execute_result",
          "data": {
            "text/plain": [
              "<Figure size 720x576 with 1 Axes>"
            ],
            "image/png": "[encoded data removed]"
          },
          "metadata": {},
          "execution_count": 19
        },
        {
          "output_type": "display_data",
          "data": {
            "text/plain": [
              "<Figure size 720x576 with 1 Axes>"
            ],
            "image/png": "[encoded data removed]"
          },
          "metadata": {
            "needs_background": "light"
          }
        }
      ]
    },
    {
      "cell_type": "markdown",
      "source": [
        "using classification report on logistic reg"
      ],
      "metadata": {
        "id": "Yv-21VHIv6fG"
      }
    },
    {
      "cell_type": "code",
      "source": [
        "print(classification_report(y_test,prediction))\n",
        "print(confusion_matrix(y_test,prediction))"
      ],
      "metadata": {
        "colab": {
          "base_uri": "https://localhost:8080/"
        },
        "id": "xY20ODNmv85m",
        "outputId": "0916f308-1a33-439a-f2ec-25d32071c6e9"
      },
      "execution_count": 20,
      "outputs": [
        {
          "output_type": "stream",
          "name": "stdout",
          "text": [
            "              precision    recall  f1-score   support\n",
            "\n",
            "           0       0.98      1.00      0.99      3400\n",
            "           1       0.83      0.19      0.31       106\n",
            "\n",
            "    accuracy                           0.97      3506\n",
            "   macro avg       0.90      0.59      0.65      3506\n",
            "weighted avg       0.97      0.97      0.97      3506\n",
            "\n",
            "[[3396    4]\n",
            " [  86   20]]\n"
          ]
        }
      ]
    },
    {
      "cell_type": "markdown",
      "source": [
        "## ROC AUC score testing for logreg \n",
        "\n",
        "Rmb to add context to explain this with how ROC works and why i used"
      ],
      "metadata": {
        "id": "LSfUquCDf9Ps"
      }
    },
    {
      "cell_type": "code",
      "source": [
        "# Compute predicted probabilities: y_pred_prob\n",
        "y_pred_prob = logrex.predict_proba(X_test)[:,1]\n",
        "\n",
        "# Compute and print AUC score\n",
        "print(\"AUC: {}\".format(roc_auc_score(y_test, y_pred_prob)))\n",
        "\n",
        "# Compute cross-validated AUC scores: cv_auc\n",
        "cv_auc = cross_val_score(logrex,X,y,cv=5,scoring='f1')\n",
        "\n",
        "# Print list of AUC scores\n",
        "print(\"AUC scores computed using 5-fold cross-validation: {}\".format(cv_auc))"
      ],
      "metadata": {
        "colab": {
          "base_uri": "https://localhost:8080/"
        },
        "id": "IjpRnpj2gEWx",
        "outputId": "e8fc2c8a-b9bb-4322-9427-5cab95fdbe03"
      },
      "execution_count": 34,
      "outputs": [
        {
          "output_type": "stream",
          "name": "stdout",
          "text": [
            "AUC: 0.8916537180910101\n",
            "AUC scores computed using 5-fold cross-validation: [0.2972973  0.34355828 0.1969697  0.27710843 0.28368794]\n"
          ]
        }
      ]
    },
    {
      "cell_type": "markdown",
      "source": [
        "## HyperParamter Tuning for Logistic Regression"
      ],
      "metadata": {
        "id": "O1EmqPpBjhKu"
      }
    },
    {
      "cell_type": "code",
      "source": [
        "# Setup the hyperparameter grid\n",
        "c_space = np.logspace(-5, 8, 15)\n",
        "param_grid = {'C': c_space}\n",
        "\n",
        "# Instantiate a logistic regression classifier: logreg\n",
        "logreg = LogisticRegression()\n",
        "\n",
        "# Instantiate the GridSearchCV object: logreg_cv\n",
        "logreg_cv = GridSearchCV(logreg, param_grid, cv=5,scoring='f1')\n",
        "\n",
        "# Fit it to the data\n",
        "logreg_cv.fit(X_train,y_train)\n",
        "\n",
        "# Print the tuned parameters and score\n",
        "print(\"Tuned Logistic Regression Parameters: {}\".format(logreg_cv.best_params_)) \n",
        "print(\"Best score is {}\".format(logreg_cv.best_score_))\n"
      ],
      "metadata": {
        "colab": {
          "base_uri": "https://localhost:8080/"
        },
        "id": "_JGiZyZujlPP",
        "outputId": "9a1918c2-ca0f-4b5e-8926-1a3014f5215c"
      },
      "execution_count": 36,
      "outputs": [
        {
          "output_type": "stream",
          "name": "stdout",
          "text": [
            "Tuned Logistic Regression Parameters: {'C': 3.727593720314938}\n",
            "Best score is 0.29321774461846845\n"
          ]
        }
      ]
    },
    {
      "cell_type": "code",
      "source": [
        "logreg_cv.cv_results_"
      ],
      "metadata": {
        "id": "_xgkGrdwlIX6"
      },
      "execution_count": null,
      "outputs": []
    },
    {
      "cell_type": "markdown",
      "source": [
        "### Plotting Hyperparam tuning"
      ],
      "metadata": {
        "id": "7LrWbgwZkTpx"
      }
    },
    {
      "cell_type": "code",
      "source": [
        "def plot_grid_search(cv_results, grid_param_1, grid_param_2, name_param_1, name_param_2):\n",
        "    # Get Test Scores Mean and std for each grid search\n",
        "    scores_mean = cv_results['mean_test_score']\n",
        "    scores_mean = np.array(scores_mean).reshape(len(grid_param_2),len(grid_param_1))\n",
        "\n",
        "    scores_sd = cv_results['std_test_score']\n",
        "    scores_sd = np.array(scores_sd).reshape(len(grid_param_2),len(grid_param_1))\n",
        "\n",
        "    # Plot Grid search scores\n",
        "    _, ax = plt.subplots(1,1)\n",
        "\n",
        "    # Param1 is the X-axis, Param 2 is represented as a different curve (color line)\n",
        "    for idx, val in enumerate(grid_param_2):\n",
        "        ax.plot(grid_param_1, scores_mean[idx,:], '-o', label= name_param_2 + ': ' + str(val))\n",
        "\n",
        "    ax.set_title(\"Grid Search Scores\", fontsize=20, fontweight='bold')\n",
        "    ax.set_xlabel(name_param_1, fontsize=16)\n",
        "    ax.set_ylabel('CV Average Score', fontsize=16)\n",
        "    ax.legend(loc=\"best\", fontsize=15)\n",
        "    ax.grid('on')\n",
        "\n",
        "# Calling Method \n",
        "plot_grid_search(logreg_cv.cv_results_, c_space, \"C\", 'N Estimators', 'Max Features')"
      ],
      "metadata": {
        "colab": {
          "base_uri": "https://localhost:8080/",
          "height": 305
        },
        "id": "ScSMw1HJkS7k",
        "outputId": "47b88e21-e4be-4956-827b-9d653242b706"
      },
      "execution_count": 29,
      "outputs": [
        {
          "output_type": "display_data",
          "data": {
            "text/plain": [
              "<Figure size 432x288 with 1 Axes>"
            ],
            "image/png": "[encoded data removed]"
          },
          "metadata": {
            "needs_background": "light"
          }
        }
      ]
    },
    {
      "cell_type": "markdown",
      "source": [
        "## Refit logistic regression"
      ],
      "metadata": {
        "id": "d0jIbsS-vHKP"
      }
    },
    {
      "cell_type": "code",
      "source": [
        "logrex2 = LogisticRegression(C=0.05179474679231213)\n",
        "\n",
        "logrex2 = logrex2.fit(X_train,y_train)\n",
        "prediction2 = logrex2.predict(X_test)\n"
      ],
      "metadata": {
        "id": "L1cNrQpGvKJe"
      },
      "execution_count": 32,
      "outputs": []
    },
    {
      "cell_type": "code",
      "source": [
        "print(classification_report(y_test,prediction2))\n",
        "print(confusion_matrix(y_test,prediction2))"
      ],
      "metadata": {
        "colab": {
          "base_uri": "https://localhost:8080/"
        },
        "id": "8wGIdzaUvhtG",
        "outputId": "f1c74a61-def5-4818-8b02-b016ed84de4b"
      },
      "execution_count": 33,
      "outputs": [
        {
          "output_type": "stream",
          "name": "stdout",
          "text": [
            "              precision    recall  f1-score   support\n",
            "\n",
            "           0       0.97      1.00      0.99      3400\n",
            "           1       0.89      0.15      0.26       106\n",
            "\n",
            "    accuracy                           0.97      3506\n",
            "   macro avg       0.93      0.58      0.62      3506\n",
            "weighted avg       0.97      0.97      0.96      3506\n",
            "\n",
            "[[3398    2]\n",
            " [  90   16]]\n"
          ]
        }
      ]
    }
  ]
}